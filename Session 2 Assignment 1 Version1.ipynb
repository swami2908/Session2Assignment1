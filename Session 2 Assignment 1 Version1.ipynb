{
 "cells": [
  {
   "cell_type": "markdown",
   "metadata": {},
   "source": [
    "# Session 2 - Assignment"
   ]
  },
  {
   "cell_type": "markdown",
   "metadata": {},
   "source": [
    "### TASK 1 - 1.1 Write a Python Program to implement your own myreduce() function which works exactly like Python's built-in function reduce()"
   ]
  },
  {
   "cell_type": "code",
   "execution_count": 2,
   "metadata": {},
   "outputs": [
    {
     "name": "stdout",
     "output_type": "stream",
     "text": [
      "Add on list [] using custom reduce function List is Empty\n",
      "Add on list [2,3,4] using custom reduce function 9\n"
     ]
    }
   ],
   "source": [
    "# Reduce will produce a single result\n",
    "\n",
    "def myreduce(anyfunc, sequence):\n",
    "    result=\"\"\n",
    "    if len(sequence) == 0:\n",
    "        result=\"\"\n",
    "    else:\n",
    "        result = sequence[0]\n",
    "        for item in sequence[1:]:    \n",
    "            result = anyfunc(result, item)\n",
    "        \n",
    "    if result ==\"\":\n",
    "        return \"List is Empty\"\n",
    "    else: \n",
    "        return result\n",
    "\n",
    "def myadd(x,y):\n",
    "    \n",
    "    return(x+y)\n",
    "\n",
    "print (\"Add on list [] using custom reduce function \"   + str(myreduce(myadd, [])))\n",
    "print (\"Add on list [2,3,4] using custom reduce function \"   + str(myreduce(myadd, [2,3,4])))"
   ]
  },
  {
   "cell_type": "markdown",
   "metadata": {},
   "source": [
    "### TASK 1 - 1.2 Write a Python program to implement your own myfilter() function which works exactly like Python's built-in function filter()\n",
    "#### using without Library function"
   ]
  },
  {
   "cell_type": "code",
   "execution_count": 3,
   "metadata": {},
   "outputs": [
    {
     "name": "stdout",
     "output_type": "stream",
     "text": [
      "Filter only positive Integers on list [0,1,-2,3,4,5] using custom filter function[1, 3, 4, 5]\n"
     ]
    }
   ],
   "source": [
    "# Custom filter function \n",
    "  \n",
    "def myfilter(anyfunc, sequence):\n",
    "\n",
    "# Initialize empty list\n",
    "\n",
    "    result = []\n",
    "\n",
    "# iterate over sequence of items in sequence and apply filter function\n",
    "    \n",
    "    for item in sequence:\n",
    "        if anyfunc(item):\n",
    "            result.append(item)\n",
    "    return result\n",
    "\n",
    "\n",
    "# test myreduce function\n",
    "     \n",
    "def myadd(x,y): return x + y\n",
    "\n",
    "# test myfilter function\n",
    "\n",
    "def ispositive(x):\n",
    "    \n",
    " if (x <= 0): \n",
    "  return False \n",
    " else: \n",
    "  return True\n",
    "\n",
    "\n",
    "print (\"Filter only positive Integers on list [0,1,-2,3,4,5] using custom filter function\"  + str(myfilter(ispositive, [0,1,-2,3,4,5])))"
   ]
  },
  {
   "cell_type": "markdown",
   "metadata": {},
   "source": [
    "# TASK 1 - 2 - Implement List comprehensions to produce the following lists.\n",
    "## Write List comprehensions to produce the following Lists\n",
    "## ['A', 'C', 'A', 'D', 'G', 'I', ’L’, ‘ D’]\n",
    "## ['x', 'xx', 'xxx', 'xxxx', 'y', 'yy', 'yyy', 'yyyy', 'z', 'zz', 'zzz', 'zzzz']\n",
    "## ['x', 'y', 'z', 'xx', 'yy', 'zz', 'xx', 'yy', 'zz', 'xxxx', 'yyyy', 'zzzz']\n",
    "## [[2], [3], [4], [3], [4], [5], [4], [5], [6]]\n",
    "## [[2, 3, 4, 5], [3, 4, 5, 6], [4, 5, 6, 7], [5, 6, 7, 8]]\n",
    "## [(1, 1), (2, 1), (3, 1), (1, 2), (2, 2), (3, 2), (1, 3), (2, 3), (3, 3)]"
   ]
  },
  {
   "cell_type": "code",
   "execution_count": 4,
   "metadata": {},
   "outputs": [
    {
     "name": "stdout",
     "output_type": "stream",
     "text": [
      "['A', 'C', 'A', 'D', 'G', 'I', 'L', 'D']\n",
      "['x', 'xx', 'xxx', 'xxxx', 'y', 'yy', 'yyy', 'yyyy', 'z', 'zz', 'zzz', 'zzzz']\n",
      "['x', 'y', 'z', 'xx', 'yy', 'zz', 'xxx', 'yyy', 'zzz', 'xxxx', 'yyyy', 'zzzz']\n",
      "[[2], [3], [4], [3], [4], [5], [4], [5], [6]]\n",
      "[[2, 3, 4, 5], [3, 4, 5, 6], [4, 5, 6, 7], [5, 6, 7, 8]]\n",
      "[(1, 1), (2, 1), (3, 1), (1, 2), (2, 2), (3, 2), (1, 3), (2, 3), (3, 3)]\n"
     ]
    }
   ],
   "source": [
    "word = ['A','C','A','D','G','I','L','D']\n",
    "alphabet_list = [ alphabet for alphabet in word ]\n",
    "#print (\"ACADGILD => \" + str(alphabet_list))\n",
    "print (str(alphabet_list))\n",
    "\n",
    "#########\n",
    "\n",
    "# Compress above for loop into a single list comprehension using technique [i <Upper for condition> <lower for condition>]\n",
    "\n",
    "input_list = ['x','y','z']\n",
    "result = [ item*num for item in input_list for num in range(1,5)  ]\n",
    "#print(\"['x','y','z'] => \" +   str(result))\n",
    "print(str(result))\n",
    "\n",
    "#########\n",
    "\n",
    "# Compress above for loop into a single list comprehension using technique [i <Upper for condition> <lower for condition>]\n",
    "\n",
    "input_list = ['x','y','z']\n",
    "result = [ item*num for num in range(1,5) for item in input_list  ]\n",
    "#print(\"['x','y','z'] => \" +   str(result))\n",
    "print(str(result))\n",
    "\n",
    "\n",
    "#########\n",
    "\n",
    "input_list = [2,3,4]\n",
    "result = [ [item+num] for item in input_list for num in range(0,3)]\n",
    "#print(\"[2,3,4] =>\" +  str(result))\n",
    "print(str(result))\n",
    "\n",
    "\n",
    "#########\n",
    "\n",
    "input_list = [2,3,4,5]\n",
    "result = [ [item+num for item in input_list] for num in range(0,4)  ]\n",
    "#print(\"[2,3,4,5] =>\" +  str(result))\n",
    "print(str(result))\n",
    "\n",
    "#########\n",
    "\n",
    "input_list = [1,2,3]\n",
    "result = [ (b,a) for a in input_list for b in input_list]\n",
    "#print(\"[1,2,3] =>\" +  str(result))\n",
    "print(str(result))\n",
    "\n",
    "#########"
   ]
  },
  {
   "cell_type": "markdown",
   "metadata": {},
   "source": [
    "# Task - 1 - 3 - Implement a function longestWord() that takes a list of words and returns the longest one."
   ]
  },
  {
   "cell_type": "code",
   "execution_count": 5,
   "metadata": {},
   "outputs": [
    {
     "name": "stdout",
     "output_type": "stream",
     "text": [
      "PYTHON_IS_ASWOME_LANGUAGE 25\n"
     ]
    }
   ],
   "source": [
    "# Defining the function Longest Word\n",
    "def find_longest_word(words_list):\n",
    "    word_len = []\n",
    "    for n in words_list:  \n",
    "        word_len.append((len(n), n))  \n",
    "    word_len.sort()  \n",
    "#     print(word_len)\n",
    "    return word_len[-1][1], word_len[-1][0]\n",
    "\n",
    "lng_word, lng_word_len = find_longest_word([\"PYTHON_IS_ASWOME_LANGUAGE\", \"DEEP_LEARNING\", \"MACHINE_LEARNING\"])\n",
    "print(str(lng_word), str(lng_word_len))\n"
   ]
  },
  {
   "cell_type": "markdown",
   "metadata": {},
   "source": [
    "# Task - 2 - 1.1 - Write a Python Program(with class concepts) to find the area of the triangle using the below formula.\n",
    "## area = (s*(s-a)*(s-b)*(s-c)) ** 0.5\n",
    "# Function to take the length of the sides of triangle from user should be defined in the parent class and function to calculate the area should be defined in subclass."
   ]
  },
  {
   "cell_type": "code",
   "execution_count": 6,
   "metadata": {},
   "outputs": [
    {
     "name": "stdout",
     "output_type": "stream",
     "text": [
      "Enter the value of a = 1.5\n",
      "Enter the value of b = 1.5\n",
      "Enter the value of c = 1.5\n",
      "Area of Triange : 0.9742785792574935\n"
     ]
    }
   ],
   "source": [
    "class Triangle:\n",
    " \n",
    "    def __init__(self,a,b,c):\n",
    "        self.a = float(a)\n",
    "        self.b = float(b)\n",
    "        self.c = float(c)\n",
    "        \n",
    "class subtriangle(Triangle):\n",
    "    \n",
    "    def __init__(self,a,b,c):\n",
    "        super(subtriangle,self).__init__(a,b,c)\n",
    "    \n",
    "    def area(self):\n",
    "        s=(self.a + self.b + self.c)/2\n",
    "        return((s*(s-self.a)*(s-self.b)*(s-self.c))**0.5)\n",
    " \n",
    "a=input(\"Enter the value of a = \")\n",
    "b=input(\"Enter the value of b = \")\n",
    "c=input(\"Enter the value of c = \")\n",
    "t = subtriangle(a, b, c)\n",
    "#print(\"Area of Triange : {}\".format(t.area()))\n",
    "print(\"Area of Triange : \" + str(t.area()))\n"
   ]
  },
  {
   "cell_type": "markdown",
   "metadata": {},
   "source": [
    "# Task 2 - 1.2 - Write a function filter_long_words() that takes a list of words and an integer n and returns the list of words that are longer than n."
   ]
  },
  {
   "cell_type": "code",
   "execution_count": 7,
   "metadata": {},
   "outputs": [
    {
     "name": "stdout",
     "output_type": "stream",
     "text": [
      "Enter words:swaminathan,rajesh\n",
      "Enter Min Length:4\n",
      "Words with at least min length: ['swaminathan', 'rajesh']\n"
     ]
    }
   ],
   "source": [
    "def filter_long_words(l,a):\n",
    "    words=[]\n",
    "    for j in l:\n",
    "        if(len(j)>=a):\n",
    "            words.append(j)\n",
    "    return words\n",
    "\n",
    "n=input(\"Enter words:\")\n",
    "nt=n.split(\",\")\n",
    "na=input(\"Enter Min Length:\")\n",
    "long=filter_long_words(nt,int(na))\n",
    "\n",
    "print(\"Words with at least min length:\",long)"
   ]
  },
  {
   "cell_type": "markdown",
   "metadata": {},
   "source": [
    "# Task 2 - 2.1 Write a Python program using function concept that maps list of words into a list of integers representing the lengths of the corresponding words .\n",
    "## Hint: If a list [ ab,cde,erty] is passed on to the python function output should come as [2,3,4]\n",
    "## Here 2,3 and 4 are the lengths of the words in the list."
   ]
  },
  {
   "cell_type": "markdown",
   "metadata": {},
   "source": [
    "### using Lambda function"
   ]
  },
  {
   "cell_type": "code",
   "execution_count": 8,
   "metadata": {},
   "outputs": [
    {
     "name": "stdout",
     "output_type": "stream",
     "text": [
      "Enter the word with separated by Comma       :swami,subbu,rajesh,singam\n",
      "['swami', 'subbu', 'rajesh', 'singam']\n",
      "[5, 5, 6, 6]\n"
     ]
    }
   ],
   "source": [
    "list_words = input (\"Enter the word with separated by Comma       :\")\n",
    "listofwords = list_words.split(\",\")\n",
    "print(listofwords)\n",
    "listofints = list(map(lambda i:len(i),listofwords))\n",
    "print (listofints)"
   ]
  },
  {
   "cell_type": "markdown",
   "metadata": {},
   "source": [
    "# Task 2 - 2.2 - Write a Python function which takes a character (i.e. a string of length 1) and returns True if it is a vowel, False otherwise."
   ]
  },
  {
   "cell_type": "code",
   "execution_count": 21,
   "metadata": {},
   "outputs": [
    {
     "name": "stdout",
     "output_type": "stream",
     "text": [
      "Enter the string to check whether a char is vowel or not                     :A\n",
      "The enterted character is Vowel\n"
     ]
    }
   ],
   "source": [
    "def vowelChecker (inputChar):\n",
    "    iputChar =[]\n",
    "    if (inputChar == \"a\" or inputChar == \"A\" or inputChar == \"e\" ):\n",
    "        return \"True\"\n",
    "    elif (inputChar == \"E\" or inputChar == \"i\" or inputChar == \"I\"):\n",
    "        return \"True\"\n",
    "    elif (inputChar == \"o\" or inputChar == \"O\" or iputChar == \"u\" or inputChar == \"U\"):\n",
    "        return \"True\"\n",
    "    else:\n",
    "        return \"False\"\n",
    " \n",
    "inputChar = input(\"Enter the string to check whether a char is vowel or not                     :\")\n",
    "if len(inputChar)>1 or len(inputChar)==0:\n",
    "    print (\"Invalid Input Given or Blank\")\n",
    "elif vowelChecker(inputChar) == \"True\":\n",
    " print(\"The enterted character is Vowel\")\n",
    "else:\n",
    " print(\"The enterted character is not Vowel\")"
   ]
  }
 ],
 "metadata": {
  "kernelspec": {
   "display_name": "Python 3",
   "language": "python",
   "name": "python3"
  },
  "language_info": {
   "codemirror_mode": {
    "name": "ipython",
    "version": 3
   },
   "file_extension": ".py",
   "mimetype": "text/x-python",
   "name": "python",
   "nbconvert_exporter": "python",
   "pygments_lexer": "ipython3",
   "version": "3.7.0"
  }
 },
 "nbformat": 4,
 "nbformat_minor": 2
}
